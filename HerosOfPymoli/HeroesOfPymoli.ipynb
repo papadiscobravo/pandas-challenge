{
 "cells": [
  {
   "cell_type": "markdown",
   "metadata": {},
   "source": [
    "welcome to\n",
    "Heroes of Pymoji: The Sales Analysis"
   ]
  },
  {
   "cell_type": "code",
   "execution_count": 1,
   "metadata": {},
   "outputs": [],
   "source": [
    "# dependencies\n",
    "import pandas as pd\n",
    "import numpy as np"
   ]
  },
  {
   "cell_type": "code",
   "execution_count": null,
   "metadata": {},
   "outputs": [],
   "source": [
    "dataFilepath = \"Resources/purchase_data.csv\"\n",
    "dataFilepath"
   ]
  },
  {
   "cell_type": "code",
   "execution_count": null,
   "metadata": {},
   "outputs": [],
   "source": [
    "# import the data in the file at dataFilepath and make a data frame of it\n",
    "purchaseData_df = pd.read_csv(dataFilepath)\n",
    "purchaseData_df.head()"
   ]
  },
  {
   "cell_type": "code",
   "execution_count": null,
   "metadata": {},
   "outputs": [],
   "source": [
    "# This should be a groupby object of unique SNs:\n",
    "SNs_df = purchaseData_df.groupby([\"SN\"])\n",
    "SNs_df.head()"
   ]
  },
  {
   "cell_type": "code",
   "execution_count": null,
   "metadata": {},
   "outputs": [],
   "source": [
    "# This makes a dataframe from SNs_df that shows each SN's\n",
    "# total purchases, but which unfortunately leaves out gender\n",
    "# because it can't be summed:\n",
    "SNsTotalPurchases_df = pd.DataFrame(SNs_df.sum())\n",
    "SNsTotalPurchases_df"
   ]
  },
  {
   "cell_type": "code",
   "execution_count": null,
   "metadata": {},
   "outputs": [],
   "source": [
    "# This makes a dataframe from SNs_df that shows how many \n",
    "# purchases each SN made:\n",
    "SNsCountPurchases_df = pd.DataFrame(SNs_df.count())\n",
    "SNsCountPurchases_df"
   ]
  },
  {
   "cell_type": "code",
   "execution_count": null,
   "metadata": {},
   "outputs": [],
   "source": [
    "# This starts with the same groupby object of unique SNs, but turns\n",
    "# it into a DataFrame that retains each SN's gender:\n",
    "SNsTotalByFirst_df = pd.DataFrame(SNs_df.first())\n",
    "SNsTotalByFirst_df\n",
    "# I'll need both SNsTotalPurchases_df and SNsCountPurchases_df later."
   ]
  },
  {
   "cell_type": "code",
   "execution_count": null,
   "metadata": {},
   "outputs": [],
   "source": [
    "# 1. Count unique players\n",
    "PNcount = len(SNs_df)\n",
    "PNcount"
   ]
  },
  {
   "cell_type": "code",
   "execution_count": null,
   "metadata": {},
   "outputs": [],
   "source": [
    "# 2. Purchasing analysis\n",
    "#    a. no. of unique items\n",
    "itemCount = len(purchaseData_df[\"Item ID\"].value_counts())\n",
    "itemCount"
   ]
  },
  {
   "cell_type": "code",
   "execution_count": null,
   "metadata": {},
   "outputs": [],
   "source": [
    "#    b. avg purchase price\n",
    "purchaseAvg = purchaseData_df[\"Price\"].sum() / purchaseData_df[\"Price\"].count()\n",
    "showPurchaseAvg = \"$\" + str(round(float(purchaseAvg), 2))\n",
    "showPurchaseAvg"
   ]
  },
  {
   "cell_type": "code",
   "execution_count": null,
   "metadata": {},
   "outputs": [],
   "source": [
    "#    c. total no. of purchases\n",
    "purchaseCount = purchaseData_df[\"SN\"].count()\n",
    "purchaseCount"
   ]
  },
  {
   "cell_type": "code",
   "execution_count": null,
   "metadata": {},
   "outputs": [],
   "source": [
    "#    d. total revenue\n",
    "totalRevenue = purchaseData_df[\"Price\"].sum()\n",
    "showTotalRevenue = \"$\" + str(totalRevenue)\n",
    "showTotalRevenue"
   ]
  },
  {
   "cell_type": "code",
   "execution_count": null,
   "metadata": {},
   "outputs": [],
   "source": [
    "# 3. Gender demographics\n",
    "\n",
    "# This is a groupby object created to get total sales by gender\n",
    "# (in the Price column).\n",
    "SalesByGender = purchaseData_df.groupby([\"Gender\"])\n",
    "SalesByGender_df = pd.DataFrame(SalesByGender.sum())\n",
    "SalesByGender_df\n",
    "# Ignore the sums of Purchase ID, Age, and Item ID, which are meaningless."
   ]
  },
  {
   "cell_type": "code",
   "execution_count": null,
   "metadata": {},
   "outputs": [],
   "source": [
    "# This is a groupby object of unique PNs by gender, \n",
    "# using the dataframe of unique SNs that retains gender...:\n",
    "genderReport = SNsTotalByFirst_df.groupby([\"Gender\"])\n",
    "# ...and making it a DataFrame:\n",
    "genderReport_df = pd.DataFrame(genderReport.count())\n",
    "genderReport_df"
   ]
  },
  {
   "cell_type": "code",
   "execution_count": null,
   "metadata": {},
   "outputs": [],
   "source": [
    "#    a. pct and count of male players"
   ]
  },
  {
   "cell_type": "code",
   "execution_count": null,
   "metadata": {},
   "outputs": [],
   "source": [
    "# count\n",
    "maleCount = int(genderReport_df.iloc[1][1])\n",
    "maleCount"
   ]
  },
  {
   "cell_type": "code",
   "execution_count": null,
   "metadata": {},
   "outputs": [],
   "source": [
    "# percent\n",
    "malePct = maleCount / PNcount\n",
    "malePctShow = str(round(malePct*100,1))+\"%\"\n",
    "malePctShow"
   ]
  },
  {
   "cell_type": "code",
   "execution_count": null,
   "metadata": {},
   "outputs": [],
   "source": [
    "#    b. pct and count of female players"
   ]
  },
  {
   "cell_type": "code",
   "execution_count": null,
   "metadata": {},
   "outputs": [],
   "source": [
    "# count\n",
    "femaleCount = int(genderReport_df.iloc[0][0])\n",
    "femaleCount"
   ]
  },
  {
   "cell_type": "code",
   "execution_count": null,
   "metadata": {},
   "outputs": [],
   "source": [
    "# percent\n",
    "femalePct = femaleCount / PNcount\n",
    "femalePctShow = str(round(femalePct*100,1))+\"%\"\n",
    "femalePctShow"
   ]
  },
  {
   "cell_type": "code",
   "execution_count": null,
   "metadata": {},
   "outputs": [],
   "source": [
    "#    c. pct and count of other/non-disclosed gender players"
   ]
  },
  {
   "cell_type": "code",
   "execution_count": null,
   "metadata": {},
   "outputs": [],
   "source": [
    "# count\n",
    "nonBinCount = int(genderReport_df.iloc[2][2])\n",
    "nonBinCount"
   ]
  },
  {
   "cell_type": "code",
   "execution_count": null,
   "metadata": {},
   "outputs": [],
   "source": [
    "# percent\n",
    "nonBinPct = nonBinCount / PNcount\n",
    "nonBinPctShow = str(round(nonBinPct*100,1))+\"%\"\n",
    "nonBinPctShow"
   ]
  },
  {
   "cell_type": "code",
   "execution_count": null,
   "metadata": {},
   "outputs": [],
   "source": [
    "# 4. Purchasing analysis: gender\n",
    "SalesCountByGender = purchaseData_df.groupby([\"Gender\"])\n",
    "SalesCountByGender_df = pd.DataFrame(SalesCountByGender.count())\n",
    "SalesCountByGender_df"
   ]
  },
  {
   "cell_type": "code",
   "execution_count": null,
   "metadata": {},
   "outputs": [],
   "source": [
    "#    a. male players"
   ]
  },
  {
   "cell_type": "code",
   "execution_count": null,
   "metadata": {},
   "outputs": [],
   "source": [
    "#         i. purchase count\n",
    "salesCountMale = SalesCountByGender_df.loc['Male','SN']\n",
    "salesCountMale"
   ]
  },
  {
   "cell_type": "code",
   "execution_count": null,
   "metadata": {},
   "outputs": [],
   "source": [
    "#        ii. total purchase value\n",
    "salesMale = SalesByGender_df.loc['Male','Price']\n",
    "salesMaleShow = \"$\"+str(round(float(salesMale),2))\n",
    "salesMaleShow\n"
   ]
  },
  {
   "cell_type": "code",
   "execution_count": null,
   "metadata": {},
   "outputs": [],
   "source": [
    "#       iii. avg purchase price\n",
    "salesAvgMale = salesMale / salesCountMale\n",
    "salesAvgMaleShow = \"$\"+str(round(float(salesAvgMale),2))\n",
    "salesAvgMaleShow"
   ]
  },
  {
   "cell_type": "code",
   "execution_count": null,
   "metadata": {},
   "outputs": [],
   "source": [
    "#        iv. avg purchase total per person by gender\n",
    "salesAvgPerMale = salesMale / maleCount\n",
    "salesAvgPerMaleShow = \"$\"+str(round(float(salesAvgPerMale),2))\n",
    "salesAvgPerMaleShow"
   ]
  },
  {
   "cell_type": "code",
   "execution_count": null,
   "metadata": {},
   "outputs": [],
   "source": [
    "#    b. female players"
   ]
  },
  {
   "cell_type": "code",
   "execution_count": null,
   "metadata": {},
   "outputs": [],
   "source": [
    "#         i. purchase count\n",
    "salesCountFemale = SalesCountByGender_df.loc['Female','SN']\n",
    "salesCountFemale"
   ]
  },
  {
   "cell_type": "code",
   "execution_count": null,
   "metadata": {},
   "outputs": [],
   "source": [
    "#        ii. total purchase value\n",
    "salesFemale = SalesByGender_df.loc['Female','Price']\n",
    "salesFemaleShow = \"$\"+str(round(float(salesFemale),2))\n",
    "salesFemaleShow"
   ]
  },
  {
   "cell_type": "code",
   "execution_count": null,
   "metadata": {},
   "outputs": [],
   "source": [
    "#       iii. avg purchase price\n",
    "salesAvgFemale = salesFemale / salesCountFemale\n",
    "salesAvgFemaleShow = \"$\"+str(round(float(salesAvgFemale),2))\n",
    "salesAvgFemaleShow"
   ]
  },
  {
   "cell_type": "code",
   "execution_count": null,
   "metadata": {},
   "outputs": [],
   "source": [
    "#        iv. avg purchase total per person by gender\n",
    "salesAvgPerFemale = salesFemale / femaleCount\n",
    "salesAvgPerFemaleShow = \"$\"+str(round(float(salesAvgPerFemale),2))\n",
    "salesAvgPerFemaleShow"
   ]
  },
  {
   "cell_type": "code",
   "execution_count": null,
   "metadata": {},
   "outputs": [],
   "source": [
    "#    c. players of other/non-disclosed gender"
   ]
  },
  {
   "cell_type": "code",
   "execution_count": null,
   "metadata": {},
   "outputs": [],
   "source": [
    "#         i. purchase count\n",
    "salesCountNonBin = SalesCountByGender_df.loc['Other / Non-Disclosed','SN']\n",
    "salesCountNonBin"
   ]
  },
  {
   "cell_type": "code",
   "execution_count": null,
   "metadata": {},
   "outputs": [],
   "source": [
    "#        ii. total purchase value\n",
    "salesNonBin = SalesByGender_df.loc['Other / Non-Disclosed','Price']\n",
    "salesNonBinShow = \"$\"+str(round(float(salesNonBin),2))\n",
    "salesNonBinShow"
   ]
  },
  {
   "cell_type": "code",
   "execution_count": null,
   "metadata": {},
   "outputs": [],
   "source": [
    "#       iii. avg purchase price\n",
    "salesAvgNonBin = salesNonBin / salesCountNonBin\n",
    "salesAvgNonBinShow = \"$\"+str(round(float(salesAvgNonBin),2))\n",
    "salesAvgNonBinShow"
   ]
  },
  {
   "cell_type": "code",
   "execution_count": null,
   "metadata": {},
   "outputs": [],
   "source": [
    "#        iv. avg purchase total per person by gender\n",
    "salesAvgPerNonBin = salesNonBin / nonBinCount\n",
    "salesAvgPerNonBinShow = \"$\"+str(round(float(salesAvgPerNonBin),2))\n",
    "salesAvgPerNonBinShow"
   ]
  },
  {
   "cell_type": "code",
   "execution_count": null,
   "metadata": {},
   "outputs": [],
   "source": [
    "# 5. Age demographics in bins of 4 years: <10, 10-14, 15-19, und so weiter:\n",
    "#    a. purchase count\n",
    "#    b. avg purchase price\n",
    "#    c. total purchase value\n",
    "#    d. avg purchase total per person by age group\n",
    "# (This must use purchaseData_df.)\n",
    "\n",
    "\n",
    "# This will add a new column to purchaseData_df classifying each player into an age range:\n",
    "# bins = [0, 10, 14, 19, 24, 29, 34, 39, 44]\n",
    "# group_names = [\"<10\", \"10-14\", \"15-19\", \"20-24\", \"25-29\", \"30-34\", \"35-39\", \">40\"]\n",
    "# purchaseData_df[\"Age_Range\"] = pd.cut(purchaseData_df[\"Age\"], bins, labels=group_names, include_lowest=True)\n",
    "# purchaseData_df\n",
    "\n",
    "\n",
    "bins = [0, 10, 14, 19, 24, 29, 34, 39, 44]\n",
    "groupNames = [\"<10\", \"10-14\", \"15-19\", \"20-24\", \"25-29\", \"30-34\", \"35-39\", \">40\"]\n",
    "#This will add a new column to purchaseData_df\n",
    "purchaseData_df[\"Total_Age\"] = pd.cut(purchaseData_df[\"Age\"], bins, labels=groupNames, include_lowest=True)\n",
    "ageTotal = purchaseData_df[\"Total_Age\"].value_counts()\n",
    "ageTotal"
   ]
  },
  {
   "cell_type": "code",
   "execution_count": null,
   "metadata": {},
   "outputs": [],
   "source": [
    "#    a. purchase count\n",
    "agePurchaseCounts = purchaseData_df.groupby([\"Total_Age\"]).count()[\"Price\"].rename(\"Purchase Count\")\n",
    "#    b. avg_purchase_price\n",
    "ageAvgPurchasePrice= purchaseData_df.groupby([\"Total_Age\"]).mean()[\"Price\"].rename(\"Avg Purchase Price\")\n",
    "#    c. total purchase value\n",
    "totalPurchaseValueAge = purchaseData_df.groupby([\"Total_Age\"]).sum()[\"Price\"].rename(\"Total Purchase Value\")\n",
    "#Total Purchase Value\n",
    "purchaseTotalByAge = purchaseData_df.groupby([\"Total_Age\"]).sum()[\"Price\"].rename(\"Total Purchase Value\")\n",
    "#    d. avg purchase total per person by age group\n",
    "avgPurchasePerson = round(purchaseTotalByAge  / ageTotal, 2)\n",
    "ageDemographicSummary = pd.DataFrame({\"Purchase Count\": agePurchaseCounts, \"Average Purchase Price\": ageAvgPurchasePrice, \"Total Purchase Value\": totalPurchaseValueAge, \"Avg Purchase Per Person\" :avgPurchasePerson})\n",
    "\n",
    "ageDemographicSummary\n"
   ]
  },
  {
   "cell_type": "code",
   "execution_count": null,
   "metadata": {},
   "outputs": [],
   "source": [
    "# 6. Top spenders\n",
    "#    a. identify the top five spenders by total purchase value\n",
    "# using the dataframe SNsTotalPurchases_df\n",
    "# and turning it into a new DataFrame:\n",
    "SNsTop_df = SNsTotalPurchases_df.sort_values(by=\"Price\", ascending=False)\n",
    "SNsTop_df = SNsTop_df.head()\n",
    "SNsTop_df = SNsTop_df.sort_index()\n",
    "SNsTop_df\n",
    "# Ignore Purchase ID, Age, and Item ID in the resulting table and only use Price."
   ]
  },
  {
   "cell_type": "code",
   "execution_count": null,
   "metadata": {},
   "outputs": [],
   "source": [
    "# This searches SNsCountPurchases_df for the top five spenders in SNsTop,\n",
    "# returns how many purchases each of them made, and adds them to SNsTop.\n",
    "# Now how do I do that?"
   ]
  },
  {
   "cell_type": "code",
   "execution_count": null,
   "metadata": {},
   "outputs": [],
   "source": [
    "#    b. and list in a table:\n",
    "#         i. SN\n",
    "#        ii. purchase count\n",
    "#       iii. avg purchase price\n",
    "#        iv. total purchase value\n",
    "\n",
    "# I'll keep working with SNsTop_df. I can add a column...\n",
    "SNsTop_df[\"Purchase Count\"] = 1\n",
    "# But how to populate it?\n",
    "SNsTop_df"
   ]
  },
  {
   "cell_type": "code",
   "execution_count": null,
   "metadata": {},
   "outputs": [],
   "source": [
    "# I'd like to retrieve the name of each of the top five players from SNsTop_df,\n",
    "# but it seems I need to take the index and make it a data column first:\n",
    "SNsTop_df.reset_index(inplace=True)\n",
    "SNsTop_df"
   ]
  },
  {
   "cell_type": "code",
   "execution_count": null,
   "metadata": {},
   "outputs": [],
   "source": [
    "# Now I can fetch each the top spenders' SN...:\n",
    "TopSpndr5 = SNsTop_df.iloc[0,0]\n",
    "TopSpndr5"
   ]
  },
  {
   "cell_type": "code",
   "execution_count": null,
   "metadata": {},
   "outputs": [],
   "source": [
    "TopSpndr4 = SNsTop_df.iloc[1,0]\n",
    "TopSpndr4"
   ]
  },
  {
   "cell_type": "code",
   "execution_count": null,
   "metadata": {},
   "outputs": [],
   "source": [
    "TopSpndr3 = SNsTop_df.iloc[2,0]\n",
    "TopSpndr3"
   ]
  },
  {
   "cell_type": "code",
   "execution_count": null,
   "metadata": {},
   "outputs": [],
   "source": [
    "TopSpndr2 = SNsTop_df.iloc[3,0]\n",
    "TopSpndr2"
   ]
  },
  {
   "cell_type": "code",
   "execution_count": null,
   "metadata": {},
   "outputs": [],
   "source": [
    "TopSpndr1 = SNsTop_df.iloc[4,0]\n",
    "TopSpndr1"
   ]
  },
  {
   "cell_type": "code",
   "execution_count": null,
   "metadata": {},
   "outputs": [],
   "source": [
    "TopSpndr5purchCt = int(SNsCountPurchases_df.loc[TopSpndr5,\"Purchase ID\"])\n",
    "TopSpndr5purchCt"
   ]
  },
  {
   "cell_type": "code",
   "execution_count": null,
   "metadata": {},
   "outputs": [],
   "source": [
    "# ...but how do I get the Purchase Count column to store each top spender's purchase count?\n",
    "\n",
    "#test = SNsTop_df.iloc[1, 6]\n",
    "#test\n",
    "\n",
    "SNsTop_df.iloc[0,5] = TopSpndr5purchCt\n",
    "SNsTop_df"
   ]
  },
  {
   "cell_type": "code",
   "execution_count": null,
   "metadata": {},
   "outputs": [],
   "source": [
    "TopSpndr4purchCt = int(SNsCountPurchases_df.loc[TopSpndr4,\"Purchase ID\"])\n",
    "SNsTop_df.iloc[1,5] = TopSpndr4purchCt"
   ]
  },
  {
   "cell_type": "code",
   "execution_count": null,
   "metadata": {},
   "outputs": [],
   "source": [
    "TopSpndr3purchCt = int(SNsCountPurchases_df.loc[TopSpndr3,\"Purchase ID\"])\n",
    "SNsTop_df.iloc[2,5] = TopSpndr3purchCt"
   ]
  },
  {
   "cell_type": "code",
   "execution_count": null,
   "metadata": {},
   "outputs": [],
   "source": [
    "TopSpndr2purchCt = int(SNsCountPurchases_df.loc[TopSpndr2,\"Purchase ID\"])\n",
    "SNsTop_df.iloc[3,5] = TopSpndr5purchCt"
   ]
  },
  {
   "cell_type": "code",
   "execution_count": null,
   "metadata": {},
   "outputs": [],
   "source": [
    "TopSpndr1purchCt = int(SNsCountPurchases_df.loc[TopSpndr1,\"Purchase ID\"])\n",
    "SNsTop_df.iloc[4,5] = TopSpndr5purchCt\n",
    "SNsTop_df"
   ]
  },
  {
   "cell_type": "code",
   "execution_count": null,
   "metadata": {},
   "outputs": [],
   "source": [
    "# I know avg purchase price is just total / count but how do I do that?\n",
    "SNsTop_df[\"Avg Purchase Price\"] = 1 #value of Price column / value of Purchase Count column\n",
    "SNsTop_df"
   ]
  },
  {
   "cell_type": "code",
   "execution_count": null,
   "metadata": {},
   "outputs": [],
   "source": [
    "# Read this SN's purchase total from SNsTop_df:\n",
    "TopSpndr5PurchTotal = SNsTop_df.iloc[0,4]\n",
    "\n",
    "#Calculate this SN's average purchase:\n",
    "TopSpndr5AvgPurch = TopSpndr5PurchTotal / TopSpndr5purchCt\n",
    "\n",
    "#Write this SN's average purchase to SNsTop_df:\n",
    "SNsTop_df.iloc[0,6] = round(TopSpndr5AvgPurch,2)"
   ]
  },
  {
   "cell_type": "code",
   "execution_count": null,
   "metadata": {},
   "outputs": [],
   "source": [
    "TopSpndr4PurchTotal = SNsTop_df.iloc[1,4]\n",
    "TopSpndr4AvgPurch = TopSpndr4PurchTotal / TopSpndr4purchCt\n",
    "SNsTop_df.iloc[1,6] = round(TopSpndr4AvgPurch,2)"
   ]
  },
  {
   "cell_type": "code",
   "execution_count": null,
   "metadata": {},
   "outputs": [],
   "source": [
    "TopSpndr3PurchTotal = SNsTop_df.iloc[2,4]\n",
    "TopSpndr3AvgPurch = TopSpndr3PurchTotal / TopSpndr3purchCt\n",
    "SNsTop_df.iloc[2,6] = round(TopSpndr3AvgPurch,2)"
   ]
  },
  {
   "cell_type": "code",
   "execution_count": null,
   "metadata": {},
   "outputs": [],
   "source": [
    "TopSpndr2PurchTotal = SNsTop_df.iloc[3,4]\n",
    "TopSpndr2AvgPurch = TopSpndr2PurchTotal / TopSpndr2purchCt\n",
    "SNsTop_df.iloc[3,6] = round(TopSpndr2AvgPurch,2)"
   ]
  },
  {
   "cell_type": "code",
   "execution_count": null,
   "metadata": {},
   "outputs": [],
   "source": [
    "TopSpndr1PurchTotal = SNsTop_df.iloc[4,4]\n",
    "TopSpndr1AvgPurch = TopSpndr1PurchTotal / TopSpndr1purchCt\n",
    "SNsTop_df.iloc[4,6] = round(TopSpndr1AvgPurch,2)\n",
    "SNsTop_df"
   ]
  },
  {
   "cell_type": "code",
   "execution_count": null,
   "metadata": {},
   "outputs": [],
   "source": [
    "# 7. Most popular items\n",
    "#    a. identify the five most popular items purchase count\n",
    "#    b. and list in a table:\n",
    "#         i. item ID\n",
    "#        ii. item name\n",
    "#       iii. purchase count\n",
    "#        iv. total purchase value"
   ]
  },
  {
   "cell_type": "code",
   "execution_count": null,
   "metadata": {},
   "outputs": [],
   "source": [
    "itemsCount = purchaseData_df.groupby([\"Item ID\"])\n",
    "itemsCount_df = pd.DataFrame(itemsCount.count())\n",
    "itemsCount_df"
   ]
  },
  {
   "cell_type": "code",
   "execution_count": null,
   "metadata": {},
   "outputs": [],
   "source": [
    "itemsTopCount_df = itemsCount_df.sort_values(by=\"Price\", ascending=False)\n",
    "itemsTopCount_df = itemsTopCount_df.head()\n",
    "itemsTopCount_df\n",
    "\n",
    "# I'd like to strike Purchase ID and Age and add name of item..."
   ]
  },
  {
   "cell_type": "code",
   "execution_count": null,
   "metadata": {},
   "outputs": [],
   "source": [
    "# This shows how much revenue each in-game item generated:\n",
    "itemsSales_df = purchaseData_df.loc[:,[\"Item ID\", \"Item Name\", \"Price\"]]\n",
    "itemsSales_df = purchaseData_df.groupby([\"Item ID\", \"Item Name\"]).sum()[\"Price\"]\n",
    "purchaseCount = purchaseData_df.groupby([\"Item ID\", \"Item Name\"]).count()[\"Price\"]\n",
    "itemsSales_df = pd.DataFrame({itemsSales_df, purchaseCount})\n",
    "itemsSales_df\n",
    "\n",
    "# This gives the following error:\n",
    "# TypeError: 'Series' objects are mutable, thus they cannot be hashed"
   ]
  },
  {
   "cell_type": "code",
   "execution_count": null,
   "metadata": {},
   "outputs": [],
   "source": [
    "itemsSales_df = purchaseData_df.loc[:,[\"Item ID\", \"Item Name\", \"Price\"]]\n",
    "itemsSales_total = itemsSales_df.groupby([\"Item ID\", \"Item Name\"]).sum()[\"Price\"]\n",
    "purchaseCount = itemsSales_df.groupby([\"Item ID\", \"Item Name\"]).count()[\"Price\"]\n",
    "itemsSales_data = pd.DataFrame({\"Price\":itemsSales_total, \"Purchase Count\":purchaseCount})\n",
    "itemsSales_data.head(5)"
   ]
  },
  {
   "cell_type": "code",
   "execution_count": null,
   "metadata": {},
   "outputs": [],
   "source": [
    "# 8 most profitable items\n",
    "#    a. identify the five most profitable items by total purchase value\n",
    "#    b. and list in a table:\n",
    "#         i. item ID\n",
    "#        ii. item name\n",
    "#       iii. purchase count\n",
    "#        iv. item price\n",
    "#         v. total purchase value\n",
    "\n",
    "itemsTopSales_df = itemsSales_data.sort_values(by=\"Price\", ascending=False)\n",
    "itemsTopSales_df = itemsTopSales_df.head()\n",
    "itemsTopSales_df"
   ]
  },
  {
   "cell_type": "code",
   "execution_count": null,
   "metadata": {},
   "outputs": [],
   "source": [
    "# Thank you for examining this homework assignment (nunber 4: Pandas challenge)\n",
    "# in the U of Minnesota Data Analytics and Visualization Boot Camp, Winter 2021.\n",
    "# Please email Paul Bernhardt papadiscobravo@gmail.com with questions."
   ]
  },
  {
   "cell_type": "code",
   "execution_count": null,
   "metadata": {},
   "outputs": [],
   "source": []
  }
 ],
 "metadata": {
  "kernelspec": {
   "display_name": "Python 3",
   "language": "python",
   "name": "python3"
  },
  "language_info": {
   "codemirror_mode": {
    "name": "ipython",
    "version": 3
   },
   "file_extension": ".py",
   "mimetype": "text/x-python",
   "name": "python",
   "nbconvert_exporter": "python",
   "pygments_lexer": "ipython3",
   "version": "3.6.10"
  }
 },
 "nbformat": 4,
 "nbformat_minor": 4
}
