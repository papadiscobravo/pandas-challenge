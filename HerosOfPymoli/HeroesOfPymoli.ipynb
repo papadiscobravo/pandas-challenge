{
 "cells": [
  {
   "cell_type": "markdown",
   "metadata": {},
   "source": [
    "#### welcome to\n",
    "# Heroes of Pymoji:\n",
    "## The Sales Analysis"
   ]
  },
  {
   "cell_type": "code",
   "execution_count": 1,
   "metadata": {},
   "outputs": [],
   "source": [
    "# dependencies\n",
    "import pandas as pd\n",
    "import numpy as np"
   ]
  },
  {
   "cell_type": "code",
   "execution_count": 2,
   "metadata": {},
   "outputs": [
    {
     "data": {
      "text/plain": [
       "'Resources/purchase_data.csv'"
      ]
     },
     "execution_count": 2,
     "metadata": {},
     "output_type": "execute_result"
    }
   ],
   "source": [
    "dataFilepath = \"Resources/purchase_data.csv\"\n",
    "dataFilepath"
   ]
  },
  {
   "cell_type": "code",
   "execution_count": 3,
   "metadata": {},
   "outputs": [],
   "source": [
    "# import the data in the file at dataFilepath and make a data frame of it\n",
    "purchaseData_df = pd.read_csv(dataFilepath)\n",
    "# purchaseData_df.head()"
   ]
  },
  {
   "cell_type": "code",
   "execution_count": 4,
   "metadata": {},
   "outputs": [],
   "source": [
    "# This should be a groupby object of unique SNs:\n",
    "SNs_df = purchaseData_df.groupby([\"SN\"])\n",
    "# SNs_df.head()"
   ]
  },
  {
   "cell_type": "code",
   "execution_count": 5,
   "metadata": {},
   "outputs": [],
   "source": [
    "# This makes a dataframe from SNs_df that shows each SN's\n",
    "# total purchases, but which unfortunately leaves out gender\n",
    "# because it can't be summed:\n",
    "SNsTotalPurchases_df = pd.DataFrame(SNs_df.sum())\n",
    "# SNsTotalPurchases_df"
   ]
  },
  {
   "cell_type": "code",
   "execution_count": 6,
   "metadata": {},
   "outputs": [],
   "source": [
    "# This makes a dataframe from SNs_df that shows how many \n",
    "# purchases each SN made:\n",
    "SNsCountPurchases_df = pd.DataFrame(SNs_df.count())\n",
    "# SNsCountPurchases_df"
   ]
  },
  {
   "cell_type": "code",
   "execution_count": 7,
   "metadata": {},
   "outputs": [],
   "source": [
    "# This starts with the same groupby object of unique SNs, but turns\n",
    "# it into a DataFrame that retains each SN's gender:\n",
    "SNsTotalByFirst_df = pd.DataFrame(SNs_df.first())\n",
    "# SNsTotalByFirst_df\n",
    "# I'll need both SNsTotalPurchases_df and SNsCountPurchases_df later."
   ]
  },
  {
   "cell_type": "code",
   "execution_count": 8,
   "metadata": {},
   "outputs": [
    {
     "data": {
      "text/html": [
       "<div>\n",
       "<style scoped>\n",
       "    .dataframe tbody tr th:only-of-type {\n",
       "        vertical-align: middle;\n",
       "    }\n",
       "\n",
       "    .dataframe tbody tr th {\n",
       "        vertical-align: top;\n",
       "    }\n",
       "\n",
       "    .dataframe thead th {\n",
       "        text-align: right;\n",
       "    }\n",
       "</style>\n",
       "<table border=\"1\" class=\"dataframe\">\n",
       "  <thead>\n",
       "    <tr style=\"text-align: right;\">\n",
       "      <th></th>\n",
       "      <th>Total Players</th>\n",
       "    </tr>\n",
       "  </thead>\n",
       "  <tbody>\n",
       "    <tr>\n",
       "      <th>0</th>\n",
       "      <td>576</td>\n",
       "    </tr>\n",
       "  </tbody>\n",
       "</table>\n",
       "</div>"
      ],
      "text/plain": [
       "   Total Players\n",
       "0            576"
      ]
     },
     "execution_count": 8,
     "metadata": {},
     "output_type": "execute_result"
    }
   ],
   "source": [
    "# 1. Count unique players\n",
    "PNcount = len(SNs_df)\n",
    "# print(f\"Total number of players: {PNcount}\")\n",
    "\n",
    "d = {\"Total Players\": [PNcount]}\n",
    "totalPlayerCountReport_df = pd.DataFrame(data=d)\n",
    "totalPlayerCountReport_df"
   ]
  },
  {
   "cell_type": "code",
   "execution_count": 9,
   "metadata": {},
   "outputs": [],
   "source": [
    "# 2. Purchasing analysis\n",
    "#    a. no. of unique items\n",
    "itemCount = len(purchaseData_df[\"Item ID\"].value_counts())\n",
    "\n",
    "# print(f\"Number of unique items: {itemCount}\")"
   ]
  },
  {
   "cell_type": "code",
   "execution_count": 10,
   "metadata": {},
   "outputs": [],
   "source": [
    "#    b. avg purchase price\n",
    "purchaseAvg = purchaseData_df[\"Price\"].sum() / purchaseData_df[\"Price\"].count()\n",
    "showPurchaseAvg = \"$\" + str(round(float(purchaseAvg), 2))\n",
    "\n",
    "# print(f\"Average purchase price: {showPurchaseAvg}\")"
   ]
  },
  {
   "cell_type": "code",
   "execution_count": 11,
   "metadata": {},
   "outputs": [],
   "source": [
    "#    c. total no. of purchases\n",
    "purchaseCount = purchaseData_df[\"SN\"].count()\n",
    "\n",
    "# print(f\"Total number of purchases: {purchaseCount}\")"
   ]
  },
  {
   "cell_type": "code",
   "execution_count": 12,
   "metadata": {},
   "outputs": [],
   "source": [
    "#    d. total revenue\n",
    "totalRevenue = purchaseData_df[\"Price\"].sum()\n",
    "showTotalRevenue = \"$\" + str(totalRevenue)\n",
    "\n",
    "# print(f\"Total revenue: {showTotalRevenue}\")"
   ]
  },
  {
   "cell_type": "code",
   "execution_count": 13,
   "metadata": {},
   "outputs": [
    {
     "data": {
      "text/html": [
       "<div>\n",
       "<style scoped>\n",
       "    .dataframe tbody tr th:only-of-type {\n",
       "        vertical-align: middle;\n",
       "    }\n",
       "\n",
       "    .dataframe tbody tr th {\n",
       "        vertical-align: top;\n",
       "    }\n",
       "\n",
       "    .dataframe thead th {\n",
       "        text-align: right;\n",
       "    }\n",
       "</style>\n",
       "<table border=\"1\" class=\"dataframe\">\n",
       "  <thead>\n",
       "    <tr style=\"text-align: right;\">\n",
       "      <th></th>\n",
       "      <th>Number of Unique Items</th>\n",
       "      <th>Average Price</th>\n",
       "      <th>Number of Purchases</th>\n",
       "      <th>Total revenue</th>\n",
       "    </tr>\n",
       "  </thead>\n",
       "  <tbody>\n",
       "    <tr>\n",
       "      <th>0</th>\n",
       "      <td>179</td>\n",
       "      <td>$3.05</td>\n",
       "      <td>780</td>\n",
       "      <td>$2379.77</td>\n",
       "    </tr>\n",
       "  </tbody>\n",
       "</table>\n",
       "</div>"
      ],
      "text/plain": [
       "   Number of Unique Items Average Price  Number of Purchases Total revenue\n",
       "0                     179         $3.05                  780      $2379.77"
      ]
     },
     "execution_count": 13,
     "metadata": {},
     "output_type": "execute_result"
    }
   ],
   "source": [
    "d = {\n",
    "    \"Number of Unique Items\" : [itemCount],\n",
    "    \"Average Price\" : [showPurchaseAvg],\n",
    "    \"Number of Purchases\" : [purchaseCount],\n",
    "    \"Total revenue\" : [showTotalRevenue]\n",
    "    }\n",
    "purchasingAnalysisReport_df = pd.DataFrame(data=d)\n",
    "purchasingAnalysisReport_df"
   ]
  },
  {
   "cell_type": "code",
   "execution_count": 14,
   "metadata": {},
   "outputs": [],
   "source": [
    "# 3. Gender demographics\n",
    "\n",
    "# This is a groupby object created to get total sales by gender\n",
    "# (in the Price column).\n",
    "SalesByGender = purchaseData_df.groupby([\"Gender\"])\n",
    "SalesByGender_df = pd.DataFrame(SalesByGender.sum())\n",
    "# SalesByGender_df\n",
    "# Ignore the sums of Purchase ID, Age, and Item ID, which are meaningless."
   ]
  },
  {
   "cell_type": "code",
   "execution_count": 15,
   "metadata": {},
   "outputs": [],
   "source": [
    "# This is a groupby object of unique PNs by gender, \n",
    "# using the dataframe of unique SNs that retains gender...:\n",
    "genderReport = SNsTotalByFirst_df.groupby([\"Gender\"])\n",
    "# ...and making it a DataFrame:\n",
    "genderReport_df = pd.DataFrame(genderReport.count())\n",
    "# genderReport_df"
   ]
  },
  {
   "cell_type": "code",
   "execution_count": 16,
   "metadata": {},
   "outputs": [],
   "source": [
    "#    a. pct and count of male players"
   ]
  },
  {
   "cell_type": "code",
   "execution_count": 17,
   "metadata": {},
   "outputs": [],
   "source": [
    "# count\n",
    "maleCount = int(genderReport_df.iloc[1][1])\n",
    "\n",
    "# print(f\"Number of players who identify as male: {maleCount}\")"
   ]
  },
  {
   "cell_type": "code",
   "execution_count": 18,
   "metadata": {},
   "outputs": [],
   "source": [
    "# percent\n",
    "malePct = maleCount / PNcount\n",
    "malePctShow = str(round(malePct*100,2))+\"%\"\n",
    "\n",
    "# print(f\"Percent of players who identify as male: {malePctShow}\")"
   ]
  },
  {
   "cell_type": "code",
   "execution_count": 19,
   "metadata": {},
   "outputs": [],
   "source": [
    "#    b. pct and count of female players"
   ]
  },
  {
   "cell_type": "code",
   "execution_count": 20,
   "metadata": {},
   "outputs": [],
   "source": [
    "# count\n",
    "femaleCount = int(genderReport_df.iloc[0][0])\n",
    "\n",
    "# print(f\"Number of players who identify as female: {femaleCount}\")"
   ]
  },
  {
   "cell_type": "code",
   "execution_count": 21,
   "metadata": {},
   "outputs": [],
   "source": [
    "# percent\n",
    "femalePct = femaleCount / PNcount\n",
    "femalePctShow = str(round(femalePct*100,2))+\"%\"\n",
    "\n",
    "# print(f\"Percent of players who identify as female: {femalePctShow}\")"
   ]
  },
  {
   "cell_type": "code",
   "execution_count": 22,
   "metadata": {},
   "outputs": [],
   "source": [
    "#    c. pct and count of other/non-disclosed gender players"
   ]
  },
  {
   "cell_type": "code",
   "execution_count": 23,
   "metadata": {},
   "outputs": [],
   "source": [
    "# count\n",
    "nonBinCount = int(genderReport_df.iloc[2][2])\n",
    "# nonBinCount\n",
    "\n",
    "# print(f\"Number of players who do not identify as male or female\\nor who did not disclose their gender: {nonBinCount}\")"
   ]
  },
  {
   "cell_type": "code",
   "execution_count": 24,
   "metadata": {},
   "outputs": [],
   "source": [
    "# percent\n",
    "nonBinPct = nonBinCount / PNcount\n",
    "nonBinPctShow = str(round(nonBinPct*100,2))+\"%\"\n",
    "\n",
    "# print(f\"Pct of players who do not identify as male or female\\nor who did not disclose their gender: {nonBinPctShow}\")"
   ]
  },
  {
   "cell_type": "code",
   "execution_count": 25,
   "metadata": {},
   "outputs": [
    {
     "data": {
      "text/html": [
       "<div>\n",
       "<style scoped>\n",
       "    .dataframe tbody tr th:only-of-type {\n",
       "        vertical-align: middle;\n",
       "    }\n",
       "\n",
       "    .dataframe tbody tr th {\n",
       "        vertical-align: top;\n",
       "    }\n",
       "\n",
       "    .dataframe thead th {\n",
       "        text-align: right;\n",
       "    }\n",
       "</style>\n",
       "<table border=\"1\" class=\"dataframe\">\n",
       "  <thead>\n",
       "    <tr style=\"text-align: right;\">\n",
       "      <th></th>\n",
       "      <th></th>\n",
       "      <th>Total Count</th>\n",
       "      <th>Percentage of Players</th>\n",
       "    </tr>\n",
       "  </thead>\n",
       "  <tbody>\n",
       "    <tr>\n",
       "      <th>0</th>\n",
       "      <td>Male</td>\n",
       "      <td>484</td>\n",
       "      <td>84.03%</td>\n",
       "    </tr>\n",
       "    <tr>\n",
       "      <th>1</th>\n",
       "      <td>Female</td>\n",
       "      <td>81</td>\n",
       "      <td>14.06%</td>\n",
       "    </tr>\n",
       "    <tr>\n",
       "      <th>2</th>\n",
       "      <td>Other / Non-Disclosed</td>\n",
       "      <td>11</td>\n",
       "      <td>1.91%</td>\n",
       "    </tr>\n",
       "  </tbody>\n",
       "</table>\n",
       "</div>"
      ],
      "text/plain": [
       "                          Total Count Percentage of Players\n",
       "0                   Male          484                84.03%\n",
       "1                 Female           81                14.06%\n",
       "2  Other / Non-Disclosed           11                 1.91%"
      ]
     },
     "execution_count": 25,
     "metadata": {},
     "output_type": "execute_result"
    }
   ],
   "source": [
    "d = {\n",
    "    \"\" : [\"Male\", \"Female\", \"Other / Non-Disclosed\"],\n",
    "    \"Total Count\" : [maleCount, femaleCount, nonBinCount],\n",
    "    \"Percentage of Players\" : [malePctShow, femalePctShow, nonBinPctShow],\n",
    "    }\n",
    "purchasingAnalysisReport_df = pd.DataFrame(data=d)\n",
    "purchasingAnalysisReport_df"
   ]
  },
  {
   "cell_type": "code",
   "execution_count": 26,
   "metadata": {},
   "outputs": [],
   "source": [
    "# 4. Purchasing analysis: gender\n",
    "SalesCountByGender = purchaseData_df.groupby([\"Gender\"])\n",
    "SalesCountByGender_df = pd.DataFrame(SalesCountByGender.count())\n",
    "# SalesCountByGender_df"
   ]
  },
  {
   "cell_type": "code",
   "execution_count": 27,
   "metadata": {},
   "outputs": [],
   "source": [
    "#    a. male players"
   ]
  },
  {
   "cell_type": "code",
   "execution_count": 28,
   "metadata": {},
   "outputs": [],
   "source": [
    "#         i. purchase count\n",
    "salesCountMale = SalesCountByGender_df.loc['Male','SN']\n",
    "# print(f\"Number of purchases made by players who identify as male: {salesCountMale}\")"
   ]
  },
  {
   "cell_type": "code",
   "execution_count": 29,
   "metadata": {},
   "outputs": [],
   "source": [
    "#        ii. total purchase value\n",
    "salesMale = SalesByGender_df.loc['Male','Price']\n",
    "salesMaleShow = \"$\"+str(round(float(salesMale),2))\n",
    "\n",
    "# print(f\"Total of purchases made by players who identify as male: {salesMaleShow}\")"
   ]
  },
  {
   "cell_type": "code",
   "execution_count": 30,
   "metadata": {},
   "outputs": [],
   "source": [
    "#       iii. avg purchase price\n",
    "salesAvgMale = salesMale / salesCountMale\n",
    "salesAvgMaleShow = \"$\"+str(round(float(salesAvgMale),2))\n",
    "\n",
    "# print(f\"Average purchase made by players who identify as male: {salesAvgMaleShow}\")"
   ]
  },
  {
   "cell_type": "code",
   "execution_count": 31,
   "metadata": {},
   "outputs": [],
   "source": [
    "#        iv. avg purchase total per person by gender\n",
    "salesAvgPerMale = salesMale / maleCount\n",
    "salesAvgPerMaleShow = \"$\"+str(round(float(salesAvgPerMale),2))\n",
    "\n",
    "# print(f\"Average purchase total per player who identifies as male: {salesAvgPerMaleShow}\")"
   ]
  },
  {
   "cell_type": "code",
   "execution_count": 32,
   "metadata": {},
   "outputs": [],
   "source": [
    "#    b. female players"
   ]
  },
  {
   "cell_type": "code",
   "execution_count": 33,
   "metadata": {},
   "outputs": [],
   "source": [
    "#         i. purchase count\n",
    "salesCountFemale = SalesCountByGender_df.loc['Female','SN']\n",
    "\n",
    "# print(f\"Number of purchases made by players who identify as female: {salesCountFemale}\")"
   ]
  },
  {
   "cell_type": "code",
   "execution_count": 34,
   "metadata": {},
   "outputs": [],
   "source": [
    "#        ii. total purchase value\n",
    "salesFemale = SalesByGender_df.loc['Female','Price']\n",
    "salesFemaleShow = \"$\"+str(round(float(salesFemale),2))\n",
    "\n",
    "# print(f\"Total of purchases made by players who identify as female: {salesFemaleShow}\")"
   ]
  },
  {
   "cell_type": "code",
   "execution_count": 35,
   "metadata": {},
   "outputs": [],
   "source": [
    "#       iii. avg purchase price\n",
    "salesAvgFemale = salesFemale / salesCountFemale\n",
    "salesAvgFemaleShow = \"$\"+str(round(float(salesAvgFemale),2))\n",
    "\n",
    "# print(f\"Average purchase made by players who identify as female: {salesAvgFemaleShow}\")"
   ]
  },
  {
   "cell_type": "code",
   "execution_count": 36,
   "metadata": {},
   "outputs": [],
   "source": [
    "#        iv. avg purchase total per person by gender\n",
    "salesAvgPerFemale = salesFemale / femaleCount\n",
    "salesAvgPerFemaleShow = \"$\"+str(round(float(salesAvgPerFemale),2))\n",
    "\n",
    "# print(f\"Average purchase total per player who identifies as female: {salesAvgPerFemaleShow}\")"
   ]
  },
  {
   "cell_type": "code",
   "execution_count": 37,
   "metadata": {},
   "outputs": [],
   "source": [
    "#    c. players of other/non-disclosed gender"
   ]
  },
  {
   "cell_type": "code",
   "execution_count": 38,
   "metadata": {},
   "outputs": [],
   "source": [
    "#         i. purchase count\n",
    "salesCountNonBin = SalesCountByGender_df.loc['Other / Non-Disclosed','SN']\n",
    "\n",
    "# print(f\"Number of purchases made by players who do not identify as male or female\\nor who did not disclose their gender: {salesCountNonBin}\")"
   ]
  },
  {
   "cell_type": "code",
   "execution_count": 39,
   "metadata": {},
   "outputs": [],
   "source": [
    "#        ii. total purchase value\n",
    "salesNonBin = SalesByGender_df.loc['Other / Non-Disclosed','Price']\n",
    "salesNonBinShow = \"$\"+str(round(float(salesNonBin),2))\n",
    "\n",
    "\n",
    "# print(f\"Total of purchases made by players who do not identify as male or female\\nor who did not disclose their gender: {salesNonBinShow}\")"
   ]
  },
  {
   "cell_type": "code",
   "execution_count": 40,
   "metadata": {},
   "outputs": [],
   "source": [
    "#       iii. avg purchase price\n",
    "salesAvgNonBin = salesNonBin / salesCountNonBin\n",
    "salesAvgNonBinShow = \"$\"+str(round(float(salesAvgNonBin),2))\n",
    "\n",
    "\n",
    "# print(f\"Average purchase made by players who do not identify as male or female\\nor who did not disclose their gender: {salesAvgNonBinShow}\")"
   ]
  },
  {
   "cell_type": "code",
   "execution_count": 41,
   "metadata": {},
   "outputs": [],
   "source": [
    "#        iv. avg purchase total per person by gender\n",
    "salesAvgPerNonBin = salesNonBin / nonBinCount\n",
    "salesAvgPerNonBinShow = \"$\"+str(round(float(salesAvgPerNonBin),2))\n",
    "# salesAvgPerNonBinShow\n",
    "\n",
    "\n",
    "# print(f\"Average purchase total per player who does not identify as male or female\\nor who did not disclose their gender: {salesAvgPerNonBinShow}\")"
   ]
  },
  {
   "cell_type": "code",
   "execution_count": 42,
   "metadata": {},
   "outputs": [
    {
     "data": {
      "text/html": [
       "<div>\n",
       "<style scoped>\n",
       "    .dataframe tbody tr th:only-of-type {\n",
       "        vertical-align: middle;\n",
       "    }\n",
       "\n",
       "    .dataframe tbody tr th {\n",
       "        vertical-align: top;\n",
       "    }\n",
       "\n",
       "    .dataframe thead th {\n",
       "        text-align: right;\n",
       "    }\n",
       "</style>\n",
       "<table border=\"1\" class=\"dataframe\">\n",
       "  <thead>\n",
       "    <tr style=\"text-align: right;\">\n",
       "      <th></th>\n",
       "      <th></th>\n",
       "      <th>Purchase Count</th>\n",
       "      <th>Average Purchase Price</th>\n",
       "      <th>Total Purchase Value</th>\n",
       "      <th>Avg Total Purchase per Person</th>\n",
       "    </tr>\n",
       "  </thead>\n",
       "  <tbody>\n",
       "    <tr>\n",
       "      <th>0</th>\n",
       "      <td>Male</td>\n",
       "      <td>652</td>\n",
       "      <td>$3.02</td>\n",
       "      <td>$1967.64</td>\n",
       "      <td>$4.07</td>\n",
       "    </tr>\n",
       "    <tr>\n",
       "      <th>1</th>\n",
       "      <td>Female</td>\n",
       "      <td>113</td>\n",
       "      <td>$3.2</td>\n",
       "      <td>$361.94</td>\n",
       "      <td>$4.47</td>\n",
       "    </tr>\n",
       "    <tr>\n",
       "      <th>2</th>\n",
       "      <td>Other / Non-Disclosed</td>\n",
       "      <td>15</td>\n",
       "      <td>$3.35</td>\n",
       "      <td>$50.19</td>\n",
       "      <td>$4.56</td>\n",
       "    </tr>\n",
       "  </tbody>\n",
       "</table>\n",
       "</div>"
      ],
      "text/plain": [
       "                          Purchase Count Average Purchase Price  \\\n",
       "0                   Male             652                  $3.02   \n",
       "1                 Female             113                   $3.2   \n",
       "2  Other / Non-Disclosed              15                  $3.35   \n",
       "\n",
       "  Total Purchase Value Avg Total Purchase per Person  \n",
       "0             $1967.64                         $4.07  \n",
       "1              $361.94                         $4.47  \n",
       "2               $50.19                         $4.56  "
      ]
     },
     "execution_count": 42,
     "metadata": {},
     "output_type": "execute_result"
    }
   ],
   "source": [
    "d = {\n",
    "    \"\" : [\"Male\", \"Female\", \"Other / Non-Disclosed\"],\n",
    "    \"Purchase Count\" : [salesCountMale, salesCountFemale, salesCountNonBin],\n",
    "    \"Average Purchase Price\" : [salesAvgMaleShow, salesAvgFemaleShow, salesAvgNonBinShow],\n",
    "    \"Total Purchase Value\" : [salesMaleShow, salesFemaleShow, salesNonBinShow],\n",
    "    \"Avg Total Purchase per Person\" : [salesAvgPerMaleShow, salesAvgPerFemaleShow, salesAvgPerNonBinShow],\n",
    "    }\n",
    "purchasingAnalysisReport_df = pd.DataFrame(data=d)\n",
    "purchasingAnalysisReport_df"
   ]
  },
  {
   "cell_type": "code",
   "execution_count": 43,
   "metadata": {},
   "outputs": [
    {
     "data": {
      "text/html": [
       "<div>\n",
       "<style scoped>\n",
       "    .dataframe tbody tr th:only-of-type {\n",
       "        vertical-align: middle;\n",
       "    }\n",
       "\n",
       "    .dataframe tbody tr th {\n",
       "        vertical-align: top;\n",
       "    }\n",
       "\n",
       "    .dataframe thead th {\n",
       "        text-align: right;\n",
       "    }\n",
       "</style>\n",
       "<table border=\"1\" class=\"dataframe\">\n",
       "  <thead>\n",
       "    <tr style=\"text-align: right;\">\n",
       "      <th></th>\n",
       "      <th>Purchase ID</th>\n",
       "      <th>SN</th>\n",
       "      <th>Age</th>\n",
       "      <th>Gender</th>\n",
       "      <th>Item ID</th>\n",
       "      <th>Item Name</th>\n",
       "      <th>Price</th>\n",
       "      <th>AgeRange</th>\n",
       "    </tr>\n",
       "  </thead>\n",
       "  <tbody>\n",
       "    <tr>\n",
       "      <th>0</th>\n",
       "      <td>0</td>\n",
       "      <td>Lisim78</td>\n",
       "      <td>20</td>\n",
       "      <td>Male</td>\n",
       "      <td>108</td>\n",
       "      <td>Extraction, Quickblade Of Trembling Hands</td>\n",
       "      <td>3.53</td>\n",
       "      <td>20-24</td>\n",
       "    </tr>\n",
       "    <tr>\n",
       "      <th>1</th>\n",
       "      <td>1</td>\n",
       "      <td>Lisovynya38</td>\n",
       "      <td>40</td>\n",
       "      <td>Male</td>\n",
       "      <td>143</td>\n",
       "      <td>Frenzied Scimitar</td>\n",
       "      <td>1.56</td>\n",
       "      <td>40+</td>\n",
       "    </tr>\n",
       "    <tr>\n",
       "      <th>2</th>\n",
       "      <td>2</td>\n",
       "      <td>Ithergue48</td>\n",
       "      <td>24</td>\n",
       "      <td>Male</td>\n",
       "      <td>92</td>\n",
       "      <td>Final Critic</td>\n",
       "      <td>4.88</td>\n",
       "      <td>20-24</td>\n",
       "    </tr>\n",
       "    <tr>\n",
       "      <th>3</th>\n",
       "      <td>3</td>\n",
       "      <td>Chamassasya86</td>\n",
       "      <td>24</td>\n",
       "      <td>Male</td>\n",
       "      <td>100</td>\n",
       "      <td>Blindscythe</td>\n",
       "      <td>3.27</td>\n",
       "      <td>20-24</td>\n",
       "    </tr>\n",
       "    <tr>\n",
       "      <th>4</th>\n",
       "      <td>4</td>\n",
       "      <td>Iskosia90</td>\n",
       "      <td>23</td>\n",
       "      <td>Male</td>\n",
       "      <td>131</td>\n",
       "      <td>Fury</td>\n",
       "      <td>1.44</td>\n",
       "      <td>20-24</td>\n",
       "    </tr>\n",
       "    <tr>\n",
       "      <th>...</th>\n",
       "      <td>...</td>\n",
       "      <td>...</td>\n",
       "      <td>...</td>\n",
       "      <td>...</td>\n",
       "      <td>...</td>\n",
       "      <td>...</td>\n",
       "      <td>...</td>\n",
       "      <td>...</td>\n",
       "    </tr>\n",
       "    <tr>\n",
       "      <th>775</th>\n",
       "      <td>775</td>\n",
       "      <td>Aethedru70</td>\n",
       "      <td>21</td>\n",
       "      <td>Female</td>\n",
       "      <td>60</td>\n",
       "      <td>Wolf</td>\n",
       "      <td>3.54</td>\n",
       "      <td>20-24</td>\n",
       "    </tr>\n",
       "    <tr>\n",
       "      <th>776</th>\n",
       "      <td>776</td>\n",
       "      <td>Iral74</td>\n",
       "      <td>21</td>\n",
       "      <td>Male</td>\n",
       "      <td>164</td>\n",
       "      <td>Exiled Doomblade</td>\n",
       "      <td>1.63</td>\n",
       "      <td>20-24</td>\n",
       "    </tr>\n",
       "    <tr>\n",
       "      <th>777</th>\n",
       "      <td>777</td>\n",
       "      <td>Yathecal72</td>\n",
       "      <td>20</td>\n",
       "      <td>Male</td>\n",
       "      <td>67</td>\n",
       "      <td>Celeste, Incarnation of the Corrupted</td>\n",
       "      <td>3.46</td>\n",
       "      <td>20-24</td>\n",
       "    </tr>\n",
       "    <tr>\n",
       "      <th>778</th>\n",
       "      <td>778</td>\n",
       "      <td>Sisur91</td>\n",
       "      <td>7</td>\n",
       "      <td>Male</td>\n",
       "      <td>92</td>\n",
       "      <td>Final Critic</td>\n",
       "      <td>4.19</td>\n",
       "      <td>&lt;10</td>\n",
       "    </tr>\n",
       "    <tr>\n",
       "      <th>779</th>\n",
       "      <td>779</td>\n",
       "      <td>Ennrian78</td>\n",
       "      <td>24</td>\n",
       "      <td>Male</td>\n",
       "      <td>50</td>\n",
       "      <td>Dawn</td>\n",
       "      <td>4.60</td>\n",
       "      <td>20-24</td>\n",
       "    </tr>\n",
       "  </tbody>\n",
       "</table>\n",
       "<p>780 rows × 8 columns</p>\n",
       "</div>"
      ],
      "text/plain": [
       "     Purchase ID             SN  Age  Gender  Item ID  \\\n",
       "0              0        Lisim78   20    Male      108   \n",
       "1              1    Lisovynya38   40    Male      143   \n",
       "2              2     Ithergue48   24    Male       92   \n",
       "3              3  Chamassasya86   24    Male      100   \n",
       "4              4      Iskosia90   23    Male      131   \n",
       "..           ...            ...  ...     ...      ...   \n",
       "775          775     Aethedru70   21  Female       60   \n",
       "776          776         Iral74   21    Male      164   \n",
       "777          777     Yathecal72   20    Male       67   \n",
       "778          778        Sisur91    7    Male       92   \n",
       "779          779      Ennrian78   24    Male       50   \n",
       "\n",
       "                                     Item Name  Price AgeRange  \n",
       "0    Extraction, Quickblade Of Trembling Hands   3.53    20-24  \n",
       "1                            Frenzied Scimitar   1.56      40+  \n",
       "2                                 Final Critic   4.88    20-24  \n",
       "3                                  Blindscythe   3.27    20-24  \n",
       "4                                         Fury   1.44    20-24  \n",
       "..                                         ...    ...      ...  \n",
       "775                                       Wolf   3.54    20-24  \n",
       "776                           Exiled Doomblade   1.63    20-24  \n",
       "777      Celeste, Incarnation of the Corrupted   3.46    20-24  \n",
       "778                               Final Critic   4.19      <10  \n",
       "779                                       Dawn   4.60    20-24  \n",
       "\n",
       "[780 rows x 8 columns]"
      ]
     },
     "execution_count": 43,
     "metadata": {},
     "output_type": "execute_result"
    }
   ],
   "source": [
    "# 5. Age demographics in bins of 4 years: <10, 10-14, 15-19, und so weiter:\n",
    "#    a. purchase count\n",
    "#    b. avg purchase price\n",
    "#    c. total purchase value\n",
    "#    d. avg purchase total per person by age group\n",
    "# (This must use purchaseData_df.)\n",
    "\n",
    "# This defines bins by age:\n",
    "bins = [0, 10, 14, 19, 24, 29, 34, 39, 44]\n",
    "groupNames = [\"<10\", \"10-14\", \"15-19\", \"20-24\", \"25-29\", \"30-34\", \"35-39\", \"40+\"]\n",
    "\n",
    "# This will add a new column to purchaseData_df classifying each player into an age range:\n",
    "purchaseData_df[\"AgeRange\"] = pd.cut(purchaseData_df[\"Age\"], bins, labels=groupNames, include_lowest=True)\n",
    "purchaseData_df"
   ]
  },
  {
   "cell_type": "code",
   "execution_count": 44,
   "metadata": {},
   "outputs": [
    {
     "data": {
      "text/plain": [
       "20-24    365\n",
       "15-19    136\n",
       "25-29    101\n",
       "30-34     73\n",
       "35-39     41\n",
       "<10       32\n",
       "10-14     19\n",
       "40+       12\n",
       "Name: AgeRange, dtype: int64"
      ]
     },
     "execution_count": 44,
     "metadata": {},
     "output_type": "execute_result"
    }
   ],
   "source": [
    "# This gets the total count in each age range:\n",
    "ageRangeTotal = purchaseData_df[\"AgeRange\"].value_counts()\n",
    "ageRangeTotal.head(8)"
   ]
  },
  {
   "cell_type": "code",
   "execution_count": 45,
   "metadata": {},
   "outputs": [
    {
     "data": {
      "text/html": [
       "<div>\n",
       "<style scoped>\n",
       "    .dataframe tbody tr th:only-of-type {\n",
       "        vertical-align: middle;\n",
       "    }\n",
       "\n",
       "    .dataframe tbody tr th {\n",
       "        vertical-align: top;\n",
       "    }\n",
       "\n",
       "    .dataframe thead th {\n",
       "        text-align: right;\n",
       "    }\n",
       "</style>\n",
       "<table border=\"1\" class=\"dataframe\">\n",
       "  <thead>\n",
       "    <tr style=\"text-align: right;\">\n",
       "      <th></th>\n",
       "      <th>Total Count</th>\n",
       "      <th>Percentage of Players</th>\n",
       "    </tr>\n",
       "  </thead>\n",
       "  <tbody>\n",
       "    <tr>\n",
       "      <th>20-24</th>\n",
       "      <td>365</td>\n",
       "      <td>0.63</td>\n",
       "    </tr>\n",
       "    <tr>\n",
       "      <th>15-19</th>\n",
       "      <td>136</td>\n",
       "      <td>0.24</td>\n",
       "    </tr>\n",
       "    <tr>\n",
       "      <th>25-29</th>\n",
       "      <td>101</td>\n",
       "      <td>0.18</td>\n",
       "    </tr>\n",
       "    <tr>\n",
       "      <th>30-34</th>\n",
       "      <td>73</td>\n",
       "      <td>0.13</td>\n",
       "    </tr>\n",
       "    <tr>\n",
       "      <th>35-39</th>\n",
       "      <td>41</td>\n",
       "      <td>0.07</td>\n",
       "    </tr>\n",
       "    <tr>\n",
       "      <th>&lt;10</th>\n",
       "      <td>32</td>\n",
       "      <td>0.06</td>\n",
       "    </tr>\n",
       "    <tr>\n",
       "      <th>10-14</th>\n",
       "      <td>19</td>\n",
       "      <td>0.03</td>\n",
       "    </tr>\n",
       "    <tr>\n",
       "      <th>40+</th>\n",
       "      <td>12</td>\n",
       "      <td>0.02</td>\n",
       "    </tr>\n",
       "  </tbody>\n",
       "</table>\n",
       "</div>"
      ],
      "text/plain": [
       "       Total Count  Percentage of Players\n",
       "20-24          365                   0.63\n",
       "15-19          136                   0.24\n",
       "25-29          101                   0.18\n",
       "30-34           73                   0.13\n",
       "35-39           41                   0.07\n",
       "<10             32                   0.06\n",
       "10-14           19                   0.03\n",
       "40+             12                   0.02"
      ]
     },
     "execution_count": 45,
     "metadata": {},
     "output_type": "execute_result"
    }
   ],
   "source": [
    "# calcuate what percent of the total number of players each age range represents\n",
    "ageRangeAvg = round(ageRangeTotal / PNcount, 2)\n",
    "ageDemographicSummary = pd.DataFrame({\"Total Count\": ageRangeTotal, \"Percentage of Players\": ageRangeAvg})\n",
    "\n",
    "ageDemographicSummary"
   ]
  },
  {
   "cell_type": "code",
   "execution_count": 46,
   "metadata": {},
   "outputs": [
    {
     "data": {
      "text/html": [
       "<div>\n",
       "<style scoped>\n",
       "    .dataframe tbody tr th:only-of-type {\n",
       "        vertical-align: middle;\n",
       "    }\n",
       "\n",
       "    .dataframe tbody tr th {\n",
       "        vertical-align: top;\n",
       "    }\n",
       "\n",
       "    .dataframe thead th {\n",
       "        text-align: right;\n",
       "    }\n",
       "</style>\n",
       "<table border=\"1\" class=\"dataframe\">\n",
       "  <thead>\n",
       "    <tr style=\"text-align: right;\">\n",
       "      <th></th>\n",
       "      <th>Purchase Count</th>\n",
       "      <th>Average Purchase Price</th>\n",
       "      <th>Total Purchase Value</th>\n",
       "      <th>Avg Purchase Total Per Person</th>\n",
       "    </tr>\n",
       "  </thead>\n",
       "  <tbody>\n",
       "    <tr>\n",
       "      <th>&lt;10</th>\n",
       "      <td>32</td>\n",
       "      <td>3.40</td>\n",
       "      <td>108.96</td>\n",
       "      <td>3.40</td>\n",
       "    </tr>\n",
       "    <tr>\n",
       "      <th>10-14</th>\n",
       "      <td>19</td>\n",
       "      <td>2.68</td>\n",
       "      <td>50.95</td>\n",
       "      <td>2.68</td>\n",
       "    </tr>\n",
       "    <tr>\n",
       "      <th>15-19</th>\n",
       "      <td>136</td>\n",
       "      <td>3.04</td>\n",
       "      <td>412.89</td>\n",
       "      <td>3.04</td>\n",
       "    </tr>\n",
       "    <tr>\n",
       "      <th>20-24</th>\n",
       "      <td>365</td>\n",
       "      <td>3.05</td>\n",
       "      <td>1114.06</td>\n",
       "      <td>3.05</td>\n",
       "    </tr>\n",
       "    <tr>\n",
       "      <th>25-29</th>\n",
       "      <td>101</td>\n",
       "      <td>2.90</td>\n",
       "      <td>293.00</td>\n",
       "      <td>2.90</td>\n",
       "    </tr>\n",
       "    <tr>\n",
       "      <th>30-34</th>\n",
       "      <td>73</td>\n",
       "      <td>2.93</td>\n",
       "      <td>214.00</td>\n",
       "      <td>2.93</td>\n",
       "    </tr>\n",
       "    <tr>\n",
       "      <th>35-39</th>\n",
       "      <td>41</td>\n",
       "      <td>3.60</td>\n",
       "      <td>147.67</td>\n",
       "      <td>3.60</td>\n",
       "    </tr>\n",
       "    <tr>\n",
       "      <th>40+</th>\n",
       "      <td>12</td>\n",
       "      <td>3.04</td>\n",
       "      <td>36.54</td>\n",
       "      <td>3.04</td>\n",
       "    </tr>\n",
       "  </tbody>\n",
       "</table>\n",
       "</div>"
      ],
      "text/plain": [
       "       Purchase Count  Average Purchase Price  Total Purchase Value  \\\n",
       "<10                32                    3.40                108.96   \n",
       "10-14              19                    2.68                 50.95   \n",
       "15-19             136                    3.04                412.89   \n",
       "20-24             365                    3.05               1114.06   \n",
       "25-29             101                    2.90                293.00   \n",
       "30-34              73                    2.93                214.00   \n",
       "35-39              41                    3.60                147.67   \n",
       "40+                12                    3.04                 36.54   \n",
       "\n",
       "       Avg Purchase Total Per Person  \n",
       "<10                             3.40  \n",
       "10-14                           2.68  \n",
       "15-19                           3.04  \n",
       "20-24                           3.05  \n",
       "25-29                           2.90  \n",
       "30-34                           2.93  \n",
       "35-39                           3.60  \n",
       "40+                             3.04  "
      ]
     },
     "execution_count": 46,
     "metadata": {},
     "output_type": "execute_result"
    }
   ],
   "source": [
    "#    a. purchase count\n",
    "agePurchaseCounts = purchaseData_df.groupby([\"AgeRange\"]).count()[\"Price\"].rename(\"Purchase Count\")\n",
    "#    b. avg_purchase_price\n",
    "ageAvgPurchasePrice= round(purchaseData_df.groupby([\"AgeRange\"]).mean()[\"Price\"].rename(\"Avg Purchase Price\"),2)\n",
    "#    c. total purchase value\n",
    "totalPurchaseValueAge = purchaseData_df.groupby([\"AgeRange\"]).sum()[\"Price\"].rename(\"Total Purchase Value\")\n",
    "#Total Purchase Value\n",
    "purchaseTotalByAge = purchaseData_df.groupby([\"AgeRange\"]).sum()[\"Price\"].rename(\"Total Purchase Value\")\n",
    "#    d. avg purchase total per person by age group\n",
    "avgPurchasePerson = round(purchaseTotalByAge / ageRangeTotal, 2)\n",
    "agePurchasingAnalysis = pd.DataFrame({\"Purchase Count\": agePurchaseCounts, \"Average Purchase Price\": ageAvgPurchasePrice, \"Total Purchase Value\": totalPurchaseValueAge, \"Avg Purchase Total Per Person\" :avgPurchasePerson})\n",
    "\n",
    "agePurchasingAnalysis"
   ]
  },
  {
   "cell_type": "code",
   "execution_count": 47,
   "metadata": {},
   "outputs": [],
   "source": [
    "# 6. Top spenders\n",
    "#    a. identify the top five spenders by total purchase value\n",
    "# using the dataframe SNsTotalPurchases_df\n",
    "# and turning it into a new DataFrame:\n",
    "SNsTop_df = SNsTotalPurchases_df.sort_values(by=\"Price\", ascending=False)\n",
    "SNsTop_df = SNsTop_df.head()\n",
    "SNsTop_df = SNsTop_df.sort_index()\n",
    "# SNsTop_df\n",
    "# Ignore Purchase ID, Age, and Item ID in the resulting table and only use Price."
   ]
  },
  {
   "cell_type": "code",
   "execution_count": 48,
   "metadata": {},
   "outputs": [],
   "source": [
    "# This searches SNsCountPurchases_df for the top five spenders in SNsTop,\n",
    "# returns how many purchases each of them made, and adds them to SNsTop.\n",
    "# Now how do I do that?"
   ]
  },
  {
   "cell_type": "code",
   "execution_count": 49,
   "metadata": {},
   "outputs": [],
   "source": [
    "#    b. and list in a table:\n",
    "#         i. SN\n",
    "#        ii. purchase count\n",
    "#       iii. avg purchase price\n",
    "#        iv. total purchase value\n",
    "\n",
    "# I'll keep working with SNsTop_df. I can add a column...\n",
    "SNsTop_df[\"Purchase Count\"] = 1\n",
    "# But how to populate it?\n",
    "# SNsTop_df"
   ]
  },
  {
   "cell_type": "code",
   "execution_count": 50,
   "metadata": {},
   "outputs": [],
   "source": [
    "# I'd like to retrieve the name of each of the top five players from SNsTop_df,\n",
    "# but it seems I need to take the index and make it a data column first:\n",
    "SNsTop_df.reset_index(inplace=True)\n",
    "# SNsTop_df"
   ]
  },
  {
   "cell_type": "code",
   "execution_count": 51,
   "metadata": {},
   "outputs": [],
   "source": [
    "# Now I can fetch each the top spenders' SN...:\n",
    "TopSpndr5 = SNsTop_df.iloc[0,0]\n",
    "# TopSpndr5"
   ]
  },
  {
   "cell_type": "code",
   "execution_count": 52,
   "metadata": {},
   "outputs": [],
   "source": [
    "TopSpndr4 = SNsTop_df.iloc[1,0]\n",
    "# TopSpndr4"
   ]
  },
  {
   "cell_type": "code",
   "execution_count": 53,
   "metadata": {},
   "outputs": [],
   "source": [
    "TopSpndr3 = SNsTop_df.iloc[2,0]\n",
    "# TopSpndr3"
   ]
  },
  {
   "cell_type": "code",
   "execution_count": 54,
   "metadata": {},
   "outputs": [],
   "source": [
    "TopSpndr2 = SNsTop_df.iloc[3,0]\n",
    "# TopSpndr2"
   ]
  },
  {
   "cell_type": "code",
   "execution_count": 55,
   "metadata": {},
   "outputs": [],
   "source": [
    "TopSpndr1 = SNsTop_df.iloc[4,0]\n",
    "# TopSpndr1"
   ]
  },
  {
   "cell_type": "code",
   "execution_count": 56,
   "metadata": {},
   "outputs": [],
   "source": [
    "TopSpndr5purchCt = int(SNsCountPurchases_df.loc[TopSpndr5,\"Purchase ID\"])\n",
    "# TopSpndr5purchCt"
   ]
  },
  {
   "cell_type": "code",
   "execution_count": 57,
   "metadata": {},
   "outputs": [],
   "source": [
    "# ...but how do I get the Purchase Count column to store each top spender's purchase count?\n",
    "\n",
    "#test = SNsTop_df.iloc[1, 6]\n",
    "#test\n",
    "\n",
    "SNsTop_df.iloc[0,5] = TopSpndr5purchCt\n",
    "# SNsTop_df"
   ]
  },
  {
   "cell_type": "code",
   "execution_count": 58,
   "metadata": {},
   "outputs": [],
   "source": [
    "TopSpndr4purchCt = int(SNsCountPurchases_df.loc[TopSpndr4,\"Purchase ID\"])\n",
    "SNsTop_df.iloc[1,5] = TopSpndr4purchCt"
   ]
  },
  {
   "cell_type": "code",
   "execution_count": 59,
   "metadata": {},
   "outputs": [],
   "source": [
    "TopSpndr3purchCt = int(SNsCountPurchases_df.loc[TopSpndr3,\"Purchase ID\"])\n",
    "SNsTop_df.iloc[2,5] = TopSpndr3purchCt"
   ]
  },
  {
   "cell_type": "code",
   "execution_count": 60,
   "metadata": {},
   "outputs": [],
   "source": [
    "TopSpndr2purchCt = int(SNsCountPurchases_df.loc[TopSpndr2,\"Purchase ID\"])\n",
    "SNsTop_df.iloc[3,5] = TopSpndr5purchCt"
   ]
  },
  {
   "cell_type": "code",
   "execution_count": 61,
   "metadata": {},
   "outputs": [],
   "source": [
    "TopSpndr1purchCt = int(SNsCountPurchases_df.loc[TopSpndr1,\"Purchase ID\"])\n",
    "SNsTop_df.iloc[4,5] = TopSpndr5purchCt\n",
    "# SNsTop_df"
   ]
  },
  {
   "cell_type": "code",
   "execution_count": 62,
   "metadata": {},
   "outputs": [],
   "source": [
    "# I know avg purchase price is just total / count but how do I do that?\n",
    "SNsTop_df[\"Avg Purchase Price\"] = 1 #value of Price column / value of Purchase Count column\n",
    "# SNsTop_df"
   ]
  },
  {
   "cell_type": "code",
   "execution_count": 63,
   "metadata": {},
   "outputs": [],
   "source": [
    "# Read this SN's purchase total from SNsTop_df:\n",
    "TopSpndr5PurchTotal = SNsTop_df.iloc[0,4]\n",
    "\n",
    "#Calculate this SN's average purchase:\n",
    "TopSpndr5AvgPurch = TopSpndr5PurchTotal / TopSpndr5purchCt\n",
    "\n",
    "#Write this SN's average purchase to SNsTop_df:\n",
    "SNsTop_df.iloc[0,6] = round(TopSpndr5AvgPurch,2)"
   ]
  },
  {
   "cell_type": "code",
   "execution_count": 64,
   "metadata": {},
   "outputs": [],
   "source": [
    "TopSpndr4PurchTotal = SNsTop_df.iloc[1,4]\n",
    "TopSpndr4AvgPurch = TopSpndr4PurchTotal / TopSpndr4purchCt\n",
    "SNsTop_df.iloc[1,6] = round(TopSpndr4AvgPurch,2)"
   ]
  },
  {
   "cell_type": "code",
   "execution_count": null,
   "metadata": {},
   "outputs": [],
   "source": [
    "TopSpndr3PurchTotal = SNsTop_df.iloc[2,4]\n",
    "TopSpndr3AvgPurch = TopSpndr3PurchTotal / TopSpndr3purchCt\n",
    "SNsTop_df.iloc[2,6] = round(TopSpndr3AvgPurch,2)"
   ]
  },
  {
   "cell_type": "code",
   "execution_count": null,
   "metadata": {},
   "outputs": [],
   "source": [
    "TopSpndr2PurchTotal = SNsTop_df.iloc[3,4]\n",
    "TopSpndr2AvgPurch = TopSpndr2PurchTotal / TopSpndr2purchCt\n",
    "SNsTop_df.iloc[3,6] = round(TopSpndr2AvgPurch,2)"
   ]
  },
  {
   "cell_type": "code",
   "execution_count": null,
   "metadata": {},
   "outputs": [],
   "source": [
    "TopSpndr1PurchTotal = SNsTop_df.iloc[4,4]\n",
    "TopSpndr1AvgPurch = TopSpndr1PurchTotal / TopSpndr1purchCt\n",
    "SNsTop_df.iloc[4,6] = round(TopSpndr1AvgPurch,2)\n",
    "\n",
    "#rename Price as Total Purchase Value\n",
    "SNsTop_df = SNsTop_df.rename(columns={\"Price\" : \"Total Purchase Value\"})"
   ]
  },
  {
   "cell_type": "code",
   "execution_count": null,
   "metadata": {},
   "outputs": [],
   "source": [
    "#rename Purchase ID as [blank]\n",
    "SNsTop_df = SNsTop_df.rename(columns={\"Purchase ID\" : \"\"})\n",
    "SNsTop_df.iloc[0,1] = \"\"\n",
    "SNsTop_df.iloc[1,1] = \"\"\n",
    "SNsTop_df.iloc[2,1] = \"\"\n",
    "SNsTop_df.iloc[3,1] = \"\"\n",
    "SNsTop_df.iloc[4,1] = \"\"\n",
    "\n",
    "# SNsTop_df"
   ]
  },
  {
   "cell_type": "code",
   "execution_count": null,
   "metadata": {},
   "outputs": [],
   "source": [
    "#rename Age as [blank]\n",
    "SNsTop_df = SNsTop_df.rename(columns={\"Age\" : \"\"})\n",
    "\n",
    "SNsTop_df.iloc[0,2] = \"\"\n",
    "SNsTop_df.iloc[1,2] = \"\"\n",
    "SNsTop_df.iloc[2,2] = \"\"\n",
    "SNsTop_df.iloc[3,2] = \"\"\n",
    "SNsTop_df.iloc[4,2] = \"\"\n",
    "\n",
    "SNsTop_df"
   ]
  },
  {
   "cell_type": "code",
   "execution_count": null,
   "metadata": {},
   "outputs": [],
   "source": [
    "# 7. Most popular items\n",
    "#    a. identify the five most popular items purchase count\n",
    "#    b. and list in a table:\n",
    "#         i. item ID\n",
    "#        ii. item name\n",
    "#       iii. purchase count\n",
    "#        iv. total purchase value"
   ]
  },
  {
   "cell_type": "code",
   "execution_count": null,
   "metadata": {},
   "outputs": [],
   "source": [
    "itemsCount = purchaseData_df.groupby([\"Item ID\"])\n",
    "itemsCount_df = pd.DataFrame(itemsCount.count())\n",
    "# itemsCount_df"
   ]
  },
  {
   "cell_type": "code",
   "execution_count": null,
   "metadata": {},
   "outputs": [],
   "source": [
    "itemsTopCount_df = itemsCount_df.sort_values(by=\"Price\", ascending=False)\n",
    "itemsTopCount_df = itemsTopCount_df.head()\n",
    "# itemsTopCount_df"
   ]
  },
  {
   "cell_type": "code",
   "execution_count": null,
   "metadata": {},
   "outputs": [],
   "source": [
    "itemsSales_df = purchaseData_df.loc[:,[\"Item ID\", \"Item Name\", \"Price\"]]\n",
    "itemsSales_total = itemsSales_df.groupby([\"Item ID\", \"Item Name\"]).sum()[\"Price\"]\n",
    "purchaseCount = itemsSales_df.groupby([\"Item ID\", \"Item Name\"]).count()[\"Price\"]\n",
    "itemsSalesData = pd.DataFrame({\"Price\":itemsSales_total, \"Purchase Count\":purchaseCount})\n",
    "itemsSalesData = itemsSalesData.sort_values(by=\"Purchase Count\", ascending=False)\n",
    "itemsSalesData.head(5)"
   ]
  },
  {
   "cell_type": "code",
   "execution_count": null,
   "metadata": {},
   "outputs": [],
   "source": [
    "# 8 most profitable items\n",
    "#    a. identify the five most profitable items by total purchase value\n",
    "#    b. and list in a table:\n",
    "#         i. item ID\n",
    "#        ii. item name\n",
    "#       iii. purchase count\n",
    "#        iv. item price\n",
    "#         v. total purchase value\n",
    "\n",
    "itemsTopSales_df = itemsSalesData.sort_values(by=\"Price\", ascending=False)\n",
    "itemsTopSales_df = itemsTopSales_df.head()\n",
    "itemsTopSales_df"
   ]
  },
  {
   "cell_type": "markdown",
   "metadata": {},
   "source": [
    "## Three observable trends:\n",
    "### 1. Most players--84.0 percent--identify themselves in Heroes of Pymoji as male and account for most of the sales--82.6 percent.\n",
    "### 2. However, players who do not identify as male in-game spend considerably more per purchase than players who identify themselves as male in-game.\n",
    "### 3. And players who do not identify as male in-game spend considerably more on average overall than players who identify themselves as male in-game."
   ]
  },
  {
   "cell_type": "markdown",
   "metadata": {},
   "source": [
    "#### Thank you for examining this homework assignment (nunber 4: Pandas challenge)\n",
    "#### in the U of Minnesota Data Analytics and Visualization Boot Camp, Winter 2021.\n",
    "#### Please email Paul Bernhardt papadiscobravo@gmail.com with questions."
   ]
  },
  {
   "cell_type": "code",
   "execution_count": null,
   "metadata": {},
   "outputs": [],
   "source": []
  }
 ],
 "metadata": {
  "kernelspec": {
   "display_name": "Python 3",
   "language": "python",
   "name": "python3"
  },
  "language_info": {
   "codemirror_mode": {
    "name": "ipython",
    "version": 3
   },
   "file_extension": ".py",
   "mimetype": "text/x-python",
   "name": "python",
   "nbconvert_exporter": "python",
   "pygments_lexer": "ipython3",
   "version": "3.6.10"
  }
 },
 "nbformat": 4,
 "nbformat_minor": 4
}
