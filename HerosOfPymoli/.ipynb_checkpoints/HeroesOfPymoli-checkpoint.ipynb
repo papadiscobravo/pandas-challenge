{
 "cells": [
  {
   "cell_type": "code",
   "execution_count": 5,
   "metadata": {},
   "outputs": [],
   "source": [
    "# dependencies\n",
    "import pandas as pd"
   ]
  },
  {
   "cell_type": "code",
   "execution_count": 6,
   "metadata": {},
   "outputs": [
    {
     "data": {
      "text/plain": [
       "'Resources/purchase_data.csv'"
      ]
     },
     "execution_count": 6,
     "metadata": {},
     "output_type": "execute_result"
    }
   ],
   "source": [
    "dataFilepath = \"Resources/purchase_data.csv\"\n",
    "dataFilepath"
   ]
  },
  {
   "cell_type": "code",
   "execution_count": 9,
   "metadata": {},
   "outputs": [
    {
     "data": {
      "text/plain": [
       "<bound method NDFrame.head of      Purchase ID             SN  Age  Gender  Item ID  \\\n",
       "0              0        Lisim78   20    Male      108   \n",
       "1              1    Lisovynya38   40    Male      143   \n",
       "2              2     Ithergue48   24    Male       92   \n",
       "3              3  Chamassasya86   24    Male      100   \n",
       "4              4      Iskosia90   23    Male      131   \n",
       "..           ...            ...  ...     ...      ...   \n",
       "775          775     Aethedru70   21  Female       60   \n",
       "776          776         Iral74   21    Male      164   \n",
       "777          777     Yathecal72   20    Male       67   \n",
       "778          778        Sisur91    7    Male       92   \n",
       "779          779      Ennrian78   24    Male       50   \n",
       "\n",
       "                                     Item Name  Price  \n",
       "0    Extraction, Quickblade Of Trembling Hands   3.53  \n",
       "1                            Frenzied Scimitar   1.56  \n",
       "2                                 Final Critic   4.88  \n",
       "3                                  Blindscythe   3.27  \n",
       "4                                         Fury   1.44  \n",
       "..                                         ...    ...  \n",
       "775                                       Wolf   3.54  \n",
       "776                           Exiled Doomblade   1.63  \n",
       "777      Celeste, Incarnation of the Corrupted   3.46  \n",
       "778                               Final Critic   4.19  \n",
       "779                                       Dawn   4.60  \n",
       "\n",
       "[780 rows x 7 columns]>"
      ]
     },
     "execution_count": 9,
     "metadata": {},
     "output_type": "execute_result"
    }
   ],
   "source": [
    "# import the data in the file at dataFilepath and make a data frame of it\n",
    "purchaseData_df = pd.read_csv(dataFilepath)\n",
    "purchaseData_df.head"
   ]
  },
  {
   "cell_type": "code",
   "execution_count": 16,
   "metadata": {},
   "outputs": [
    {
     "ename": "SyntaxError",
     "evalue": "invalid syntax (<ipython-input-16-93b751e83914>, line 1)",
     "output_type": "error",
     "traceback": [
      "\u001b[0;36m  File \u001b[0;32m\"<ipython-input-16-93b751e83914>\"\u001b[0;36m, line \u001b[0;32m1\u001b[0m\n\u001b[0;31m    homeworkURL = https://umn.bootcampcontent.com/University-of-Minnesota-Boot-Camp/uofm-stp-data-pt-12-2020-u-c/tree/master/02-Homework/04-Pandas/Instructions\u001b[0m\n\u001b[0m                       ^\u001b[0m\n\u001b[0;31mSyntaxError\u001b[0m\u001b[0;31m:\u001b[0m invalid syntax\n"
     ]
    }
   ],
   "source": [
    "# per\n",
    "https://umn.bootcampcontent.com/University-of-Minnesota-Boot-Camp/uofm-stp-data-pt-12-2020-u-c/tree/master/02-Homework/04-Pandas/Instructions\n",
    "# 1. Count unique players"
   ]
  },
  {
   "cell_type": "code",
   "execution_count": null,
   "metadata": {},
   "outputs": [],
   "source": [
    "# 2. Purchasing analysis\n",
    "#    a. no. of unique items\n",
    "#    b. avg purchase price\n",
    "#    c. total no. of purchases\n",
    "#    d. total revenue"
   ]
  },
  {
   "cell_type": "code",
   "execution_count": null,
   "metadata": {},
   "outputs": [],
   "source": [
    "# 3. Gender demographics\n",
    "#    a. pct and count of male players\n",
    "#    b. pct and count of female players\n",
    "#    c. pct and count of other/non-disclosed gender players"
   ]
  },
  {
   "cell_type": "code",
   "execution_count": null,
   "metadata": {},
   "outputs": [],
   "source": [
    "# 4. Purchasing analysis: gender\n",
    "#    a. male players\n",
    "#         i. purchase count\n",
    "#        ii. avg purchase price\n",
    "#       iii. total purchase value\n",
    "#        iv. avg purchase total per person by gender\n",
    "\n",
    "#    b. female players\n",
    "#         i. purchase count\n",
    "#        ii. avg purchase price\n",
    "#       iii. total purchase value\n",
    "#        iv. avg purchase total per person by gender\n",
    "\n",
    "#    c. players of other/non-disclosed gender\n",
    "#         i. purchase count\n",
    "#        ii. avg purchase price\n",
    "#       iii. total purchase value\n",
    "#        iv. avg purchase total per person by gender"
   ]
  },
  {
   "cell_type": "code",
   "execution_count": null,
   "metadata": {},
   "outputs": [],
   "source": [
    "# 5. Age demographics in bins of 4 years: <10, 10-14, 15-19, und so weiter\n",
    "#    a. purchase count\n",
    "#    b. avg purchase price\n",
    "#    c. total purchase value\n",
    "#    d. avg purchase total per person by age group "
   ]
  },
  {
   "cell_type": "code",
   "execution_count": null,
   "metadata": {},
   "outputs": [],
   "source": [
    "# 6. Top spenders\n",
    "#    a. identify the top five spenders by total purchase value\n",
    "#    b. and list in a table:\n",
    "#         i. SN\n",
    "#        ii. purchase count\n",
    "#       iii. avg purchase price\n",
    "#        iv. total purchase value"
   ]
  },
  {
   "cell_type": "code",
   "execution_count": null,
   "metadata": {},
   "outputs": [],
   "source": [
    "# 7. Most popular items\n",
    "#    a. identify the five most popular items purchase count\n",
    "#    b. and list in a table:\n",
    "#         i. item ID\n",
    "#        ii. item name\n",
    "#       iii. purchase count\n",
    "#        iv. total purchase value"
   ]
  },
  {
   "cell_type": "code",
   "execution_count": null,
   "metadata": {},
   "outputs": [],
   "source": [
    "# 8 most profitable items\n",
    "#    a. identify the five most profitable items by total purchase value\n",
    "#    b. and list in a table:\n",
    "#         i. item ID\n",
    "#        ii. item name\n",
    "#       iii. purchase count\n",
    "#        iv. item price\n",
    "#         v. total purchase value"
   ]
  },
  {
   "cell_type": "code",
   "execution_count": 14,
   "metadata": {},
   "outputs": [],
   "source": [
    "# Thank you for examining this homework assignment (nunber 4: Pandas challenge)\n",
    "# in the U of Minnesota Data Analytics and Visualization Boot Camp, Winter 2021.\n",
    "# Please email Paul Bernhardt papadiscobravo@gmail.com with questions."
   ]
  }
 ],
 "metadata": {
  "kernelspec": {
   "display_name": "Python 3",
   "language": "python",
   "name": "python3"
  },
  "language_info": {
   "codemirror_mode": {
    "name": "ipython",
    "version": 3
   },
   "file_extension": ".py",
   "mimetype": "text/x-python",
   "name": "python",
   "nbconvert_exporter": "python",
   "pygments_lexer": "ipython3",
   "version": "3.8.5"
  }
 },
 "nbformat": 4,
 "nbformat_minor": 4
}
